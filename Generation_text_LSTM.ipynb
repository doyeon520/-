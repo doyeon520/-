{
  "nbformat": 4,
  "nbformat_minor": 0,
  "metadata": {
    "colab": {
      "name": "Generation_text_LSTM.ipynb",
      "provenance": [],
      "include_colab_link": true
    },
    "kernelspec": {
      "name": "python3",
      "display_name": "Python 3"
    },
    "accelerator": "GPU"
  },
  "cells": [
    {
      "cell_type": "markdown",
      "metadata": {
        "id": "view-in-github",
        "colab_type": "text"
      },
      "source": [
        "<a href=\"https://colab.research.google.com/github/doyeon520/NLP/blob/main/Generation_text_LSTM.ipynb\" target=\"_parent\"><img src=\"https://colab.research.google.com/assets/colab-badge.svg\" alt=\"Open In Colab\"/></a>"
      ]
    },
    {
      "cell_type": "code",
      "metadata": {
        "id": "Rg8zRgtz1Umm"
      },
      "source": [
        "import pandas as pd\n",
        "from string import punctuation\n",
        "from tensorflow.keras.preprocessing.text import Tokenizer\n",
        "from tensorflow.keras.preprocessing.sequence import pad_sequences\n",
        "import numpy as np\n",
        "from tensorflow.keras.utils import to_categorical"
      ],
      "execution_count": null,
      "outputs": []
    },
    {
      "cell_type": "code",
      "metadata": {
        "id": "4AoBPCrD1zxc",
        "outputId": "c5fb3b2e-6429-482c-e6ab-fc24c885ae3d",
        "colab": {
          "base_uri": "https://localhost:8080/",
          "height": 36
        }
      },
      "source": [
        "cd drive/My\\ Drive/Colab Notebooks/stock"
      ],
      "execution_count": null,
      "outputs": [
        {
          "output_type": "stream",
          "text": [
            "/content/drive/My Drive/Colab Notebooks/stock\n"
          ],
          "name": "stdout"
        }
      ]
    },
    {
      "cell_type": "code",
      "metadata": {
        "id": "JIItnI531ZWL",
        "outputId": "b49d54ae-eafd-4934-eb1e-83dbd974242b",
        "colab": {
          "base_uri": "https://localhost:8080/",
          "height": 621
        }
      },
      "source": [
        "df=pd.read_csv('datasets_19447_31436_ArticlesApril2017.csv')# 파일의 경로\n",
        "df.head()"
      ],
      "execution_count": null,
      "outputs": [
        {
          "output_type": "execute_result",
          "data": {
            "text/html": [
              "<div>\n",
              "<style scoped>\n",
              "    .dataframe tbody tr th:only-of-type {\n",
              "        vertical-align: middle;\n",
              "    }\n",
              "\n",
              "    .dataframe tbody tr th {\n",
              "        vertical-align: top;\n",
              "    }\n",
              "\n",
              "    .dataframe thead th {\n",
              "        text-align: right;\n",
              "    }\n",
              "</style>\n",
              "<table border=\"1\" class=\"dataframe\">\n",
              "  <thead>\n",
              "    <tr style=\"text-align: right;\">\n",
              "      <th></th>\n",
              "      <th>abstract</th>\n",
              "      <th>articleID</th>\n",
              "      <th>articleWordCount</th>\n",
              "      <th>byline</th>\n",
              "      <th>documentType</th>\n",
              "      <th>headline</th>\n",
              "      <th>keywords</th>\n",
              "      <th>multimedia</th>\n",
              "      <th>newDesk</th>\n",
              "      <th>printPage</th>\n",
              "      <th>pubDate</th>\n",
              "      <th>sectionName</th>\n",
              "      <th>snippet</th>\n",
              "      <th>source</th>\n",
              "      <th>typeOfMaterial</th>\n",
              "      <th>webURL</th>\n",
              "    </tr>\n",
              "  </thead>\n",
              "  <tbody>\n",
              "    <tr>\n",
              "      <th>0</th>\n",
              "      <td>NaN</td>\n",
              "      <td>58def1347c459f24986d7c80</td>\n",
              "      <td>716</td>\n",
              "      <td>By STEPHEN HILTNER and SUSAN LEHMAN</td>\n",
              "      <td>article</td>\n",
              "      <td>Finding an Expansive View  of a Forgotten Peop...</td>\n",
              "      <td>['Photography', 'New York Times', 'Niger', 'Fe...</td>\n",
              "      <td>3</td>\n",
              "      <td>Insider</td>\n",
              "      <td>2</td>\n",
              "      <td>2017-04-01 00:15:41</td>\n",
              "      <td>Unknown</td>\n",
              "      <td>One of the largest photo displays in Times his...</td>\n",
              "      <td>The New York Times</td>\n",
              "      <td>News</td>\n",
              "      <td>https://www.nytimes.com/2017/03/31/insider/nig...</td>\n",
              "    </tr>\n",
              "    <tr>\n",
              "      <th>1</th>\n",
              "      <td>NaN</td>\n",
              "      <td>58def3237c459f24986d7c84</td>\n",
              "      <td>823</td>\n",
              "      <td>By GAIL COLLINS</td>\n",
              "      <td>article</td>\n",
              "      <td>And Now,  the Dreaded Trump Curse</td>\n",
              "      <td>['United States Politics and Government', 'Tru...</td>\n",
              "      <td>3</td>\n",
              "      <td>OpEd</td>\n",
              "      <td>23</td>\n",
              "      <td>2017-04-01 00:23:58</td>\n",
              "      <td>Unknown</td>\n",
              "      <td>Meet the gang from under the bus.</td>\n",
              "      <td>The New York Times</td>\n",
              "      <td>Op-Ed</td>\n",
              "      <td>https://www.nytimes.com/2017/03/31/opinion/and...</td>\n",
              "    </tr>\n",
              "    <tr>\n",
              "      <th>2</th>\n",
              "      <td>NaN</td>\n",
              "      <td>58def9f57c459f24986d7c90</td>\n",
              "      <td>575</td>\n",
              "      <td>By THE EDITORIAL BOARD</td>\n",
              "      <td>article</td>\n",
              "      <td>Venezuela’s Descent Into Dictatorship</td>\n",
              "      <td>['Venezuela', 'Politics and Government', 'Madu...</td>\n",
              "      <td>3</td>\n",
              "      <td>Editorial</td>\n",
              "      <td>22</td>\n",
              "      <td>2017-04-01 00:53:06</td>\n",
              "      <td>Unknown</td>\n",
              "      <td>A court ruling annulling the legislature’s aut...</td>\n",
              "      <td>The New York Times</td>\n",
              "      <td>Editorial</td>\n",
              "      <td>https://www.nytimes.com/2017/03/31/opinion/ven...</td>\n",
              "    </tr>\n",
              "    <tr>\n",
              "      <th>3</th>\n",
              "      <td>NaN</td>\n",
              "      <td>58defd317c459f24986d7c95</td>\n",
              "      <td>1374</td>\n",
              "      <td>By MICHAEL POWELL</td>\n",
              "      <td>article</td>\n",
              "      <td>Stain Permeates Basketball Blue Blood</td>\n",
              "      <td>['Basketball (College)', 'University of North ...</td>\n",
              "      <td>3</td>\n",
              "      <td>Sports</td>\n",
              "      <td>1</td>\n",
              "      <td>2017-04-01 01:06:52</td>\n",
              "      <td>College Basketball</td>\n",
              "      <td>For two decades, until 2013, North Carolina en...</td>\n",
              "      <td>The New York Times</td>\n",
              "      <td>News</td>\n",
              "      <td>https://www.nytimes.com/2017/03/31/sports/ncaa...</td>\n",
              "    </tr>\n",
              "    <tr>\n",
              "      <th>4</th>\n",
              "      <td>NaN</td>\n",
              "      <td>58df09b77c459f24986d7ca7</td>\n",
              "      <td>708</td>\n",
              "      <td>By DEB AMLEN</td>\n",
              "      <td>article</td>\n",
              "      <td>Taking Things for Granted</td>\n",
              "      <td>['Crossword Puzzles']</td>\n",
              "      <td>3</td>\n",
              "      <td>Games</td>\n",
              "      <td>0</td>\n",
              "      <td>2017-04-01 02:00:14</td>\n",
              "      <td>Unknown</td>\n",
              "      <td>In which Howard Barkin and Will Shortz teach u...</td>\n",
              "      <td>The New York Times</td>\n",
              "      <td>News</td>\n",
              "      <td>https://www.nytimes.com/2017/03/31/crosswords/...</td>\n",
              "    </tr>\n",
              "  </tbody>\n",
              "</table>\n",
              "</div>"
            ],
            "text/plain": [
              "  abstract  ...                                             webURL\n",
              "0      NaN  ...  https://www.nytimes.com/2017/03/31/insider/nig...\n",
              "1      NaN  ...  https://www.nytimes.com/2017/03/31/opinion/and...\n",
              "2      NaN  ...  https://www.nytimes.com/2017/03/31/opinion/ven...\n",
              "3      NaN  ...  https://www.nytimes.com/2017/03/31/sports/ncaa...\n",
              "4      NaN  ...  https://www.nytimes.com/2017/03/31/crosswords/...\n",
              "\n",
              "[5 rows x 16 columns]"
            ]
          },
          "metadata": {
            "tags": []
          },
          "execution_count": 6
        }
      ]
    },
    {
      "cell_type": "code",
      "metadata": {
        "id": "YePJUN-_2QAl",
        "outputId": "6a4d7cb4-e2ee-4988-af0d-7dc2e431f4ad",
        "colab": {
          "base_uri": "https://localhost:8080/",
          "height": 111
        }
      },
      "source": [
        "print('열의 개수: ',len(df.columns))\n",
        "print(df.columns)"
      ],
      "execution_count": null,
      "outputs": [
        {
          "output_type": "stream",
          "text": [
            "열의 개수:  16\n",
            "Index(['abstract', 'articleID', 'articleWordCount', 'byline', 'documentType',\n",
            "       'headline', 'keywords', 'multimedia', 'newDesk', 'printPage', 'pubDate',\n",
            "       'sectionName', 'snippet', 'source', 'typeOfMaterial', 'webURL'],\n",
            "      dtype='object')\n"
          ],
          "name": "stdout"
        }
      ]
    },
    {
      "cell_type": "code",
      "metadata": {
        "id": "_ssuC8Gj2R1j",
        "outputId": "a5939532-a2aa-4a2d-dfa0-48667a08c3b6",
        "colab": {
          "base_uri": "https://localhost:8080/",
          "height": 36
        }
      },
      "source": [
        "df['headline'].isnull().values.any()  #sum()"
      ],
      "execution_count": null,
      "outputs": [
        {
          "output_type": "execute_result",
          "data": {
            "text/plain": [
              "False"
            ]
          },
          "metadata": {
            "tags": []
          },
          "execution_count": 8
        }
      ]
    },
    {
      "cell_type": "code",
      "metadata": {
        "id": "m3nqxFYa2Tj0",
        "outputId": "98dceb72-019d-4855-ce18-1dc43e4715f8",
        "colab": {
          "base_uri": "https://localhost:8080/",
          "height": 111
        }
      },
      "source": [
        "headline = [] # 리스트 선언\n",
        "headline.extend(list(df.headline.values)) # 헤드라인의 값들을 리스트로 저장\n",
        "headline[:5] # 상위 5개만 출력"
      ],
      "execution_count": null,
      "outputs": [
        {
          "output_type": "execute_result",
          "data": {
            "text/plain": [
              "['Finding an Expansive View  of a Forgotten People in Niger',\n",
              " 'And Now,  the Dreaded Trump Curse',\n",
              " 'Venezuela’s Descent Into Dictatorship',\n",
              " 'Stain Permeates Basketball Blue Blood',\n",
              " 'Taking Things for Granted']"
            ]
          },
          "metadata": {
            "tags": []
          },
          "execution_count": 9
        }
      ]
    },
    {
      "cell_type": "code",
      "metadata": {
        "id": "KuwhltgS2kKb",
        "outputId": "02722de2-bc45-4398-d170-5e561221491c",
        "colab": {
          "base_uri": "https://localhost:8080/",
          "height": 36
        }
      },
      "source": [
        "headline = [n for n in headline if n != \"Unknown\"] # Unknown 값을 가진 샘플 제거\n",
        "print('노이즈값 제거 후 샘플의 개수 : {}'.format(len(headline))) # 제거 후 샘플의 개수"
      ],
      "execution_count": null,
      "outputs": [
        {
          "output_type": "stream",
          "text": [
            "노이즈값 제거 후 샘플의 개수 : 831\n"
          ],
          "name": "stdout"
        }
      ]
    },
    {
      "cell_type": "code",
      "metadata": {
        "id": "Nka9RAtl2yZe",
        "outputId": "ea81668e-2f2f-414c-b10f-f28bc9c08e4b",
        "colab": {
          "base_uri": "https://localhost:8080/",
          "height": 111
        }
      },
      "source": [
        "headline[:5]"
      ],
      "execution_count": null,
      "outputs": [
        {
          "output_type": "execute_result",
          "data": {
            "text/plain": [
              "['Finding an Expansive View  of a Forgotten People in Niger',\n",
              " 'And Now,  the Dreaded Trump Curse',\n",
              " 'Venezuela’s Descent Into Dictatorship',\n",
              " 'Stain Permeates Basketball Blue Blood',\n",
              " 'Taking Things for Granted']"
            ]
          },
          "metadata": {
            "tags": []
          },
          "execution_count": 11
        }
      ]
    },
    {
      "cell_type": "code",
      "metadata": {
        "id": "NjYIo7Fp22Ls",
        "outputId": "0199bb68-15c8-44d6-b969-466b5577264a",
        "colab": {
          "base_uri": "https://localhost:8080/",
          "height": 111
        }
      },
      "source": [
        "def repreprocessing(s):\n",
        "    s=s.encode(\"utf8\").decode(\"ascii\",'ignore')\n",
        "    return ''.join(c for c in s \n",
        "                  if c not in punctuation).lower() # 구두점 제거와 동시에 소문자화\n",
        "\n",
        "text = [repreprocessing(x) for x in headline]\n",
        "text[:5]"
      ],
      "execution_count": null,
      "outputs": [
        {
          "output_type": "execute_result",
          "data": {
            "text/plain": [
              "['finding an expansive view  of a forgotten people in niger',\n",
              " 'and now  the dreaded trump curse',\n",
              " 'venezuelas descent into dictatorship',\n",
              " 'stain permeates basketball blue blood',\n",
              " 'taking things for granted']"
            ]
          },
          "metadata": {
            "tags": []
          },
          "execution_count": 12
        }
      ]
    },
    {
      "cell_type": "code",
      "metadata": {
        "id": "-377aTar3N86",
        "outputId": "994311c1-6f5a-41ef-e2f2-6b0db2620123",
        "colab": {
          "base_uri": "https://localhost:8080/",
          "height": 36
        }
      },
      "source": [
        "t = Tokenizer()\n",
        "t.fit_on_texts(text)\n",
        "vocab_size = len(t.word_index) + 1\n",
        "print('단어 집합의 크기 : %d' % vocab_size)"
      ],
      "execution_count": null,
      "outputs": [
        {
          "output_type": "stream",
          "text": [
            "단어 집합의 크기 : 2422\n"
          ],
          "name": "stdout"
        }
      ]
    },
    {
      "cell_type": "code",
      "metadata": {
        "id": "6bKCfVjE3QMI",
        "outputId": "25783f00-9a9b-4c0b-8fb0-31420fcda588",
        "colab": {
          "base_uri": "https://localhost:8080/",
          "height": 223
        }
      },
      "source": [
        "sequences = list()\n",
        "\n",
        "for line in text: # 1,214 개의 샘플에 대해서 샘플을 1개씩 가져온다.\n",
        "    encoded = t.texts_to_sequences([line])[0] # 각 샘플에 대한 정수 인코딩\n",
        "    for i in range(1, len(encoded)):\n",
        "        sequence = encoded[:i+1]\n",
        "        sequences.append(sequence)\n",
        "\n",
        "sequences[:11] # 11개의 샘플 출력"
      ],
      "execution_count": null,
      "outputs": [
        {
          "output_type": "execute_result",
          "data": {
            "text/plain": [
              "[[169, 17],\n",
              " [169, 17, 665],\n",
              " [169, 17, 665, 367],\n",
              " [169, 17, 665, 367, 4],\n",
              " [169, 17, 665, 367, 4, 2],\n",
              " [169, 17, 665, 367, 4, 2, 666],\n",
              " [169, 17, 665, 367, 4, 2, 666, 170],\n",
              " [169, 17, 665, 367, 4, 2, 666, 170, 5],\n",
              " [169, 17, 665, 367, 4, 2, 666, 170, 5, 667],\n",
              " [6, 80],\n",
              " [6, 80, 1]]"
            ]
          },
          "metadata": {
            "tags": []
          },
          "execution_count": 14
        }
      ]
    },
    {
      "cell_type": "markdown",
      "metadata": {
        "id": "0y8oxP9H4IFd"
      },
      "source": [
        ""
      ]
    },
    {
      "cell_type": "code",
      "metadata": {
        "id": "sl-7mZsW3YN1",
        "outputId": "cbdd14b7-b179-4d9a-b028-0caa84910f55",
        "colab": {
          "base_uri": "https://localhost:8080/",
          "height": 36
        }
      },
      "source": [
        "index_to_word={}\n",
        "for key, value in t.word_index.items(): # 인덱스를 단어로 바꾸기 위해 index_to_word를 생성\n",
        "    index_to_word[value] = key\n",
        "\n",
        "print('빈도수 상위 582번 단어 : {}'.format(index_to_word[582]))"
      ],
      "execution_count": null,
      "outputs": [
        {
          "output_type": "stream",
          "text": [
            "빈도수 상위 582번 단어 : exist\n"
          ],
          "name": "stdout"
        }
      ]
    },
    {
      "cell_type": "code",
      "metadata": {
        "id": "8MxVb_Rh3u86",
        "outputId": "c1216ef0-9ad2-405c-86d4-826945a7e7f0",
        "colab": {
          "base_uri": "https://localhost:8080/",
          "height": 36
        }
      },
      "source": [
        "max_len=max(len(l) for l in sequences)\n",
        "print('샘플의 최대 길이 : {}'.format(max_len))"
      ],
      "execution_count": null,
      "outputs": [
        {
          "output_type": "stream",
          "text": [
            "샘플의 최대 길이 : 19\n"
          ],
          "name": "stdout"
        }
      ]
    },
    {
      "cell_type": "code",
      "metadata": {
        "id": "XeZOprrT3xi8",
        "outputId": "31bdc8f9-91b1-480d-d733-4f7c21427b9c",
        "colab": {
          "base_uri": "https://localhost:8080/",
          "height": 129
        }
      },
      "source": [
        "sequences = pad_sequences(sequences, maxlen=max_len, padding='pre')\n",
        "print(sequences[:3])"
      ],
      "execution_count": null,
      "outputs": [
        {
          "output_type": "stream",
          "text": [
            "[[  0   0   0   0   0   0   0   0   0   0   0   0   0   0   0   0   0 169\n",
            "   17]\n",
            " [  0   0   0   0   0   0   0   0   0   0   0   0   0   0   0   0 169  17\n",
            "  665]\n",
            " [  0   0   0   0   0   0   0   0   0   0   0   0   0   0   0 169  17 665\n",
            "  367]]\n"
          ],
          "name": "stdout"
        }
      ]
    },
    {
      "cell_type": "code",
      "metadata": {
        "id": "wlYTe1SO3z3M"
      },
      "source": [
        "sequences = np.array(sequences)\n",
        "X = sequences[:,:-1]\n",
        "y = sequences[:,-1]"
      ],
      "execution_count": null,
      "outputs": []
    },
    {
      "cell_type": "code",
      "metadata": {
        "id": "hoxA-YL431og",
        "outputId": "ea5920de-ca9f-4a6c-e5e8-542550865152",
        "colab": {
          "base_uri": "https://localhost:8080/",
          "height": 73
        }
      },
      "source": [
        "print(X[:3])"
      ],
      "execution_count": null,
      "outputs": [
        {
          "output_type": "stream",
          "text": [
            "[[  0   0   0   0   0   0   0   0   0   0   0   0   0   0   0   0   0 169]\n",
            " [  0   0   0   0   0   0   0   0   0   0   0   0   0   0   0   0 169  17]\n",
            " [  0   0   0   0   0   0   0   0   0   0   0   0   0   0   0 169  17 665]]\n"
          ],
          "name": "stdout"
        }
      ]
    },
    {
      "cell_type": "code",
      "metadata": {
        "id": "8sHZIcXz32wf",
        "outputId": "c41d7c62-4e50-45c0-a616-1f92d64018a8",
        "colab": {
          "base_uri": "https://localhost:8080/",
          "height": 36
        }
      },
      "source": [
        "print(y[:3]) # 레이블"
      ],
      "execution_count": null,
      "outputs": [
        {
          "output_type": "stream",
          "text": [
            "[ 17 665 367]\n"
          ],
          "name": "stdout"
        }
      ]
    },
    {
      "cell_type": "code",
      "metadata": {
        "id": "rI046ghY336E"
      },
      "source": [
        "y = to_categorical(y, num_classes=vocab_size)"
      ],
      "execution_count": null,
      "outputs": []
    },
    {
      "cell_type": "code",
      "metadata": {
        "id": "RGZEADSY35bp"
      },
      "source": [
        "from tensorflow.keras.models import Sequential\n",
        "from tensorflow.keras.layers import Embedding, Dense, LSTM"
      ],
      "execution_count": null,
      "outputs": []
    },
    {
      "cell_type": "code",
      "metadata": {
        "id": "iCBxyijg37tO",
        "outputId": "932d922b-1961-4389-ea19-e7626b483568",
        "colab": {
          "base_uri": "https://localhost:8080/",
          "height": 1000
        }
      },
      "source": [
        "model = Sequential()\n",
        "model.add(Embedding(vocab_size, 10, input_length=max_len-1))\n",
        "# y데이터를 분리하였으므로 이제 X데이터의 길이는 기존 데이터의 길이 - 1\n",
        "model.add(LSTM(128))\n",
        "model.add(Dense(vocab_size, activation='softmax'))\n",
        "model.compile(loss='categorical_crossentropy', optimizer='adam', metrics=['accuracy'])\n",
        "model.fit(X, y, epochs=200, verbose=2)"
      ],
      "execution_count": null,
      "outputs": [
        {
          "output_type": "stream",
          "text": [
            "Epoch 1/200\n",
            "151/151 - 1s - loss: 7.4112 - accuracy: 0.0291\n",
            "Epoch 2/200\n",
            "151/151 - 1s - loss: 6.9043 - accuracy: 0.0310\n",
            "Epoch 3/200\n",
            "151/151 - 1s - loss: 6.7884 - accuracy: 0.0304\n",
            "Epoch 4/200\n",
            "151/151 - 1s - loss: 6.7031 - accuracy: 0.0358\n",
            "Epoch 5/200\n",
            "151/151 - 1s - loss: 6.6048 - accuracy: 0.0439\n",
            "Epoch 6/200\n",
            "151/151 - 1s - loss: 6.4911 - accuracy: 0.0489\n",
            "Epoch 7/200\n",
            "151/151 - 1s - loss: 6.3668 - accuracy: 0.0485\n",
            "Epoch 8/200\n",
            "151/151 - 1s - loss: 6.2323 - accuracy: 0.0535\n",
            "Epoch 9/200\n",
            "151/151 - 1s - loss: 6.0903 - accuracy: 0.0520\n",
            "Epoch 10/200\n",
            "151/151 - 1s - loss: 5.9455 - accuracy: 0.0589\n",
            "Epoch 11/200\n",
            "151/151 - 1s - loss: 5.8028 - accuracy: 0.0587\n",
            "Epoch 12/200\n",
            "151/151 - 1s - loss: 5.6623 - accuracy: 0.0597\n",
            "Epoch 13/200\n",
            "151/151 - 1s - loss: 5.5280 - accuracy: 0.0655\n",
            "Epoch 14/200\n",
            "151/151 - 1s - loss: 5.4013 - accuracy: 0.0699\n",
            "Epoch 15/200\n",
            "151/151 - 1s - loss: 5.2720 - accuracy: 0.0705\n",
            "Epoch 16/200\n",
            "151/151 - 1s - loss: 5.1490 - accuracy: 0.0776\n",
            "Epoch 17/200\n",
            "151/151 - 1s - loss: 5.0255 - accuracy: 0.0816\n",
            "Epoch 18/200\n",
            "151/151 - 1s - loss: 4.9076 - accuracy: 0.0853\n",
            "Epoch 19/200\n",
            "151/151 - 1s - loss: 4.7911 - accuracy: 0.0955\n",
            "Epoch 20/200\n",
            "151/151 - 1s - loss: 4.6772 - accuracy: 0.1040\n",
            "Epoch 21/200\n",
            "151/151 - 1s - loss: 4.5696 - accuracy: 0.1163\n",
            "Epoch 22/200\n",
            "151/151 - 1s - loss: 4.4621 - accuracy: 0.1234\n",
            "Epoch 23/200\n",
            "151/151 - 1s - loss: 4.3590 - accuracy: 0.1386\n",
            "Epoch 24/200\n",
            "151/151 - 1s - loss: 4.2569 - accuracy: 0.1538\n",
            "Epoch 25/200\n",
            "151/151 - 1s - loss: 4.1576 - accuracy: 0.1663\n",
            "Epoch 26/200\n",
            "151/151 - 1s - loss: 4.0616 - accuracy: 0.1885\n",
            "Epoch 27/200\n",
            "151/151 - 1s - loss: 3.9701 - accuracy: 0.1998\n",
            "Epoch 28/200\n",
            "151/151 - 1s - loss: 3.8766 - accuracy: 0.2195\n",
            "Epoch 29/200\n",
            "151/151 - 1s - loss: 3.7836 - accuracy: 0.2335\n",
            "Epoch 30/200\n",
            "151/151 - 1s - loss: 3.7099 - accuracy: 0.2486\n",
            "Epoch 31/200\n",
            "151/151 - 1s - loss: 3.6176 - accuracy: 0.2620\n",
            "Epoch 32/200\n",
            "151/151 - 1s - loss: 3.5355 - accuracy: 0.2792\n",
            "Epoch 33/200\n",
            "151/151 - 1s - loss: 3.4540 - accuracy: 0.2975\n",
            "Epoch 34/200\n",
            "151/151 - 1s - loss: 3.3752 - accuracy: 0.3071\n",
            "Epoch 35/200\n",
            "151/151 - 1s - loss: 3.3013 - accuracy: 0.3231\n",
            "Epoch 36/200\n",
            "151/151 - 1s - loss: 3.2243 - accuracy: 0.3356\n",
            "Epoch 37/200\n",
            "151/151 - 1s - loss: 3.1563 - accuracy: 0.3489\n",
            "Epoch 38/200\n",
            "151/151 - 1s - loss: 3.0857 - accuracy: 0.3643\n",
            "Epoch 39/200\n",
            "151/151 - 1s - loss: 3.0191 - accuracy: 0.3714\n",
            "Epoch 40/200\n",
            "151/151 - 1s - loss: 2.9514 - accuracy: 0.3868\n",
            "Epoch 41/200\n",
            "151/151 - 1s - loss: 2.8897 - accuracy: 0.3974\n",
            "Epoch 42/200\n",
            "151/151 - 1s - loss: 2.8293 - accuracy: 0.4116\n",
            "Epoch 43/200\n",
            "151/151 - 1s - loss: 2.7673 - accuracy: 0.4195\n",
            "Epoch 44/200\n",
            "151/151 - 1s - loss: 2.7122 - accuracy: 0.4334\n",
            "Epoch 45/200\n",
            "151/151 - 1s - loss: 2.6565 - accuracy: 0.4397\n",
            "Epoch 46/200\n",
            "151/151 - 1s - loss: 2.6029 - accuracy: 0.4553\n",
            "Epoch 47/200\n",
            "151/151 - 1s - loss: 2.5542 - accuracy: 0.4632\n",
            "Epoch 48/200\n",
            "151/151 - 1s - loss: 2.5000 - accuracy: 0.4754\n",
            "Epoch 49/200\n",
            "151/151 - 1s - loss: 2.4512 - accuracy: 0.4800\n",
            "Epoch 50/200\n",
            "151/151 - 1s - loss: 2.4050 - accuracy: 0.4852\n",
            "Epoch 51/200\n",
            "151/151 - 1s - loss: 2.3586 - accuracy: 0.5015\n",
            "Epoch 52/200\n",
            "151/151 - 1s - loss: 2.3124 - accuracy: 0.5108\n",
            "Epoch 53/200\n",
            "151/151 - 1s - loss: 2.2671 - accuracy: 0.5148\n",
            "Epoch 54/200\n",
            "151/151 - 1s - loss: 2.2255 - accuracy: 0.5243\n",
            "Epoch 55/200\n",
            "151/151 - 1s - loss: 2.1833 - accuracy: 0.5397\n",
            "Epoch 56/200\n",
            "151/151 - 1s - loss: 2.1423 - accuracy: 0.5435\n",
            "Epoch 57/200\n",
            "151/151 - 1s - loss: 2.1019 - accuracy: 0.5508\n",
            "Epoch 58/200\n",
            "151/151 - 1s - loss: 2.0631 - accuracy: 0.5647\n",
            "Epoch 59/200\n",
            "151/151 - 1s - loss: 2.0240 - accuracy: 0.5664\n",
            "Epoch 60/200\n",
            "151/151 - 1s - loss: 1.9866 - accuracy: 0.5739\n",
            "Epoch 61/200\n",
            "151/151 - 1s - loss: 1.9515 - accuracy: 0.5888\n",
            "Epoch 62/200\n",
            "151/151 - 1s - loss: 1.9155 - accuracy: 0.5953\n",
            "Epoch 63/200\n",
            "151/151 - 1s - loss: 1.8827 - accuracy: 0.6067\n",
            "Epoch 64/200\n",
            "151/151 - 1s - loss: 1.8434 - accuracy: 0.6140\n",
            "Epoch 65/200\n",
            "151/151 - 1s - loss: 1.8103 - accuracy: 0.6157\n",
            "Epoch 66/200\n",
            "151/151 - 1s - loss: 1.7777 - accuracy: 0.6248\n",
            "Epoch 67/200\n",
            "151/151 - 1s - loss: 1.7447 - accuracy: 0.6359\n",
            "Epoch 68/200\n",
            "151/151 - 1s - loss: 1.7113 - accuracy: 0.6380\n",
            "Epoch 69/200\n",
            "151/151 - 1s - loss: 1.6825 - accuracy: 0.6492\n",
            "Epoch 70/200\n",
            "151/151 - 1s - loss: 1.6519 - accuracy: 0.6588\n",
            "Epoch 71/200\n",
            "151/151 - 1s - loss: 1.6196 - accuracy: 0.6577\n",
            "Epoch 72/200\n",
            "151/151 - 1s - loss: 1.5909 - accuracy: 0.6673\n",
            "Epoch 73/200\n",
            "151/151 - 1s - loss: 1.5616 - accuracy: 0.6725\n",
            "Epoch 74/200\n",
            "151/151 - 1s - loss: 1.5331 - accuracy: 0.6794\n",
            "Epoch 75/200\n",
            "151/151 - 1s - loss: 1.5028 - accuracy: 0.6906\n",
            "Epoch 76/200\n",
            "151/151 - 1s - loss: 1.4765 - accuracy: 0.6929\n",
            "Epoch 77/200\n",
            "151/151 - 1s - loss: 1.4524 - accuracy: 0.6987\n",
            "Epoch 78/200\n",
            "151/151 - 1s - loss: 1.4261 - accuracy: 0.7016\n",
            "Epoch 79/200\n",
            "151/151 - 1s - loss: 1.3973 - accuracy: 0.7091\n",
            "Epoch 80/200\n",
            "151/151 - 1s - loss: 1.3750 - accuracy: 0.7158\n",
            "Epoch 81/200\n",
            "151/151 - 1s - loss: 1.3471 - accuracy: 0.7201\n",
            "Epoch 82/200\n",
            "151/151 - 1s - loss: 1.3226 - accuracy: 0.7270\n",
            "Epoch 83/200\n",
            "151/151 - 1s - loss: 1.2976 - accuracy: 0.7314\n",
            "Epoch 84/200\n",
            "151/151 - 1s - loss: 1.2759 - accuracy: 0.7368\n",
            "Epoch 85/200\n",
            "151/151 - 1s - loss: 1.2510 - accuracy: 0.7420\n",
            "Epoch 86/200\n",
            "151/151 - 1s - loss: 1.2276 - accuracy: 0.7457\n",
            "Epoch 87/200\n",
            "151/151 - 1s - loss: 1.2073 - accuracy: 0.7518\n",
            "Epoch 88/200\n",
            "151/151 - 1s - loss: 1.1844 - accuracy: 0.7563\n",
            "Epoch 89/200\n",
            "151/151 - 1s - loss: 1.1616 - accuracy: 0.7597\n",
            "Epoch 90/200\n",
            "151/151 - 1s - loss: 1.1415 - accuracy: 0.7620\n",
            "Epoch 91/200\n",
            "151/151 - 1s - loss: 1.1202 - accuracy: 0.7663\n",
            "Epoch 92/200\n",
            "151/151 - 1s - loss: 1.0989 - accuracy: 0.7701\n",
            "Epoch 93/200\n",
            "151/151 - 1s - loss: 1.0815 - accuracy: 0.7797\n",
            "Epoch 94/200\n",
            "151/151 - 1s - loss: 1.0596 - accuracy: 0.7797\n",
            "Epoch 95/200\n",
            "151/151 - 1s - loss: 1.0428 - accuracy: 0.7811\n",
            "Epoch 96/200\n",
            "151/151 - 1s - loss: 1.0219 - accuracy: 0.7842\n",
            "Epoch 97/200\n",
            "151/151 - 1s - loss: 1.0028 - accuracy: 0.7909\n",
            "Epoch 98/200\n",
            "151/151 - 1s - loss: 0.9843 - accuracy: 0.7944\n",
            "Epoch 99/200\n",
            "151/151 - 1s - loss: 0.9668 - accuracy: 0.7978\n",
            "Epoch 100/200\n",
            "151/151 - 1s - loss: 0.9513 - accuracy: 0.8002\n",
            "Epoch 101/200\n",
            "151/151 - 1s - loss: 0.9327 - accuracy: 0.8094\n",
            "Epoch 102/200\n",
            "151/151 - 1s - loss: 0.9168 - accuracy: 0.8071\n",
            "Epoch 103/200\n",
            "151/151 - 1s - loss: 0.9000 - accuracy: 0.8107\n",
            "Epoch 104/200\n",
            "151/151 - 1s - loss: 0.8844 - accuracy: 0.8134\n",
            "Epoch 105/200\n",
            "151/151 - 1s - loss: 0.8663 - accuracy: 0.8190\n",
            "Epoch 106/200\n",
            "151/151 - 1s - loss: 0.8506 - accuracy: 0.8227\n",
            "Epoch 107/200\n",
            "151/151 - 1s - loss: 0.8374 - accuracy: 0.8246\n",
            "Epoch 108/200\n",
            "151/151 - 1s - loss: 0.8236 - accuracy: 0.8298\n",
            "Epoch 109/200\n",
            "151/151 - 1s - loss: 0.8071 - accuracy: 0.8310\n",
            "Epoch 110/200\n",
            "151/151 - 1s - loss: 0.7914 - accuracy: 0.8362\n",
            "Epoch 111/200\n",
            "151/151 - 1s - loss: 0.7782 - accuracy: 0.8381\n",
            "Epoch 112/200\n",
            "151/151 - 1s - loss: 0.7634 - accuracy: 0.8400\n",
            "Epoch 113/200\n",
            "151/151 - 1s - loss: 0.7492 - accuracy: 0.8435\n",
            "Epoch 114/200\n",
            "151/151 - 1s - loss: 0.7356 - accuracy: 0.8444\n",
            "Epoch 115/200\n",
            "151/151 - 1s - loss: 0.7236 - accuracy: 0.8469\n",
            "Epoch 116/200\n",
            "151/151 - 1s - loss: 0.7124 - accuracy: 0.8489\n",
            "Epoch 117/200\n",
            "151/151 - 1s - loss: 0.6997 - accuracy: 0.8541\n",
            "Epoch 118/200\n",
            "151/151 - 1s - loss: 0.6865 - accuracy: 0.8568\n",
            "Epoch 119/200\n",
            "151/151 - 1s - loss: 0.6740 - accuracy: 0.8564\n",
            "Epoch 120/200\n",
            "151/151 - 1s - loss: 0.6641 - accuracy: 0.8620\n",
            "Epoch 121/200\n",
            "151/151 - 1s - loss: 0.6541 - accuracy: 0.8575\n",
            "Epoch 122/200\n",
            "151/151 - 1s - loss: 0.6421 - accuracy: 0.8650\n",
            "Epoch 123/200\n",
            "151/151 - 1s - loss: 0.6310 - accuracy: 0.8675\n",
            "Epoch 124/200\n",
            "151/151 - 1s - loss: 0.6196 - accuracy: 0.8689\n",
            "Epoch 125/200\n",
            "151/151 - 1s - loss: 0.6078 - accuracy: 0.8689\n",
            "Epoch 126/200\n",
            "151/151 - 1s - loss: 0.6018 - accuracy: 0.8731\n",
            "Epoch 127/200\n",
            "151/151 - 1s - loss: 0.5905 - accuracy: 0.8727\n",
            "Epoch 128/200\n",
            "151/151 - 1s - loss: 0.5841 - accuracy: 0.8733\n",
            "Epoch 129/200\n",
            "151/151 - 1s - loss: 0.5715 - accuracy: 0.8739\n",
            "Epoch 130/200\n",
            "151/151 - 1s - loss: 0.5607 - accuracy: 0.8814\n",
            "Epoch 131/200\n",
            "151/151 - 1s - loss: 0.5534 - accuracy: 0.8810\n",
            "Epoch 132/200\n",
            "151/151 - 1s - loss: 0.5463 - accuracy: 0.8822\n",
            "Epoch 133/200\n",
            "151/151 - 1s - loss: 0.5395 - accuracy: 0.8833\n",
            "Epoch 134/200\n",
            "151/151 - 1s - loss: 0.5293 - accuracy: 0.8864\n",
            "Epoch 135/200\n",
            "151/151 - 1s - loss: 0.5192 - accuracy: 0.8881\n",
            "Epoch 136/200\n",
            "151/151 - 1s - loss: 0.5121 - accuracy: 0.8906\n",
            "Epoch 137/200\n",
            "151/151 - 1s - loss: 0.5039 - accuracy: 0.8912\n",
            "Epoch 138/200\n",
            "151/151 - 1s - loss: 0.4972 - accuracy: 0.8878\n",
            "Epoch 139/200\n",
            "151/151 - 1s - loss: 0.4883 - accuracy: 0.8918\n",
            "Epoch 140/200\n",
            "151/151 - 1s - loss: 0.4814 - accuracy: 0.8912\n",
            "Epoch 141/200\n",
            "151/151 - 1s - loss: 0.4739 - accuracy: 0.8933\n",
            "Epoch 142/200\n",
            "151/151 - 1s - loss: 0.4680 - accuracy: 0.8920\n",
            "Epoch 143/200\n",
            "151/151 - 1s - loss: 0.4602 - accuracy: 0.8931\n",
            "Epoch 144/200\n",
            "151/151 - 1s - loss: 0.4544 - accuracy: 0.8962\n",
            "Epoch 145/200\n",
            "151/151 - 1s - loss: 0.4504 - accuracy: 0.8972\n",
            "Epoch 146/200\n",
            "151/151 - 1s - loss: 0.4446 - accuracy: 0.8970\n",
            "Epoch 147/200\n",
            "151/151 - 1s - loss: 0.4382 - accuracy: 0.8991\n",
            "Epoch 148/200\n",
            "151/151 - 1s - loss: 0.4318 - accuracy: 0.8983\n",
            "Epoch 149/200\n",
            "151/151 - 1s - loss: 0.4247 - accuracy: 0.8991\n",
            "Epoch 150/200\n",
            "151/151 - 1s - loss: 0.4181 - accuracy: 0.9007\n",
            "Epoch 151/200\n",
            "151/151 - 1s - loss: 0.4131 - accuracy: 0.9003\n",
            "Epoch 152/200\n",
            "151/151 - 1s - loss: 0.4082 - accuracy: 0.9039\n",
            "Epoch 153/200\n",
            "151/151 - 1s - loss: 0.4028 - accuracy: 0.9005\n",
            "Epoch 154/200\n",
            "151/151 - 1s - loss: 0.3997 - accuracy: 0.9022\n",
            "Epoch 155/200\n",
            "151/151 - 1s - loss: 0.3946 - accuracy: 0.9026\n",
            "Epoch 156/200\n",
            "151/151 - 1s - loss: 0.3927 - accuracy: 0.9066\n",
            "Epoch 157/200\n",
            "151/151 - 1s - loss: 0.3862 - accuracy: 0.9016\n",
            "Epoch 158/200\n",
            "151/151 - 1s - loss: 0.3795 - accuracy: 0.9049\n",
            "Epoch 159/200\n",
            "151/151 - 1s - loss: 0.3773 - accuracy: 0.9060\n",
            "Epoch 160/200\n",
            "151/151 - 1s - loss: 0.3726 - accuracy: 0.9047\n",
            "Epoch 161/200\n",
            "151/151 - 1s - loss: 0.3688 - accuracy: 0.9035\n",
            "Epoch 162/200\n",
            "151/151 - 1s - loss: 0.3647 - accuracy: 0.9055\n",
            "Epoch 163/200\n",
            "151/151 - 1s - loss: 0.3612 - accuracy: 0.9062\n",
            "Epoch 164/200\n",
            "151/151 - 1s - loss: 0.3590 - accuracy: 0.9047\n",
            "Epoch 165/200\n",
            "151/151 - 1s - loss: 0.3581 - accuracy: 0.9068\n",
            "Epoch 166/200\n",
            "151/151 - 1s - loss: 0.3528 - accuracy: 0.9064\n",
            "Epoch 167/200\n",
            "151/151 - 1s - loss: 0.3491 - accuracy: 0.9055\n",
            "Epoch 168/200\n",
            "151/151 - 1s - loss: 0.3475 - accuracy: 0.9072\n",
            "Epoch 169/200\n",
            "151/151 - 1s - loss: 0.3427 - accuracy: 0.9076\n",
            "Epoch 170/200\n",
            "151/151 - 1s - loss: 0.3388 - accuracy: 0.9060\n",
            "Epoch 171/200\n",
            "151/151 - 1s - loss: 0.3370 - accuracy: 0.9076\n",
            "Epoch 172/200\n",
            "151/151 - 1s - loss: 0.3327 - accuracy: 0.9062\n",
            "Epoch 173/200\n",
            "151/151 - 1s - loss: 0.3301 - accuracy: 0.9064\n",
            "Epoch 174/200\n",
            "151/151 - 1s - loss: 0.3282 - accuracy: 0.9074\n",
            "Epoch 175/200\n",
            "151/151 - 1s - loss: 0.3263 - accuracy: 0.9064\n",
            "Epoch 176/200\n",
            "151/151 - 1s - loss: 0.3260 - accuracy: 0.9082\n",
            "Epoch 177/200\n",
            "151/151 - 1s - loss: 0.3214 - accuracy: 0.9076\n",
            "Epoch 178/200\n",
            "151/151 - 1s - loss: 0.3185 - accuracy: 0.9101\n",
            "Epoch 179/200\n",
            "151/151 - 1s - loss: 0.3166 - accuracy: 0.9062\n",
            "Epoch 180/200\n",
            "151/151 - 1s - loss: 0.3145 - accuracy: 0.9080\n",
            "Epoch 181/200\n",
            "151/151 - 1s - loss: 0.3134 - accuracy: 0.9074\n",
            "Epoch 182/200\n",
            "151/151 - 1s - loss: 0.3120 - accuracy: 0.9060\n",
            "Epoch 183/200\n",
            "151/151 - 1s - loss: 0.3097 - accuracy: 0.9074\n",
            "Epoch 184/200\n",
            "151/151 - 1s - loss: 0.3118 - accuracy: 0.9068\n",
            "Epoch 185/200\n",
            "151/151 - 1s - loss: 0.3131 - accuracy: 0.9087\n",
            "Epoch 186/200\n",
            "151/151 - 1s - loss: 0.3099 - accuracy: 0.9082\n",
            "Epoch 187/200\n",
            "151/151 - 1s - loss: 0.3063 - accuracy: 0.9089\n",
            "Epoch 188/200\n",
            "151/151 - 1s - loss: 0.3022 - accuracy: 0.9093\n",
            "Epoch 189/200\n",
            "151/151 - 1s - loss: 0.2996 - accuracy: 0.9082\n",
            "Epoch 190/200\n",
            "151/151 - 1s - loss: 0.2988 - accuracy: 0.9074\n",
            "Epoch 191/200\n",
            "151/151 - 1s - loss: 0.2974 - accuracy: 0.9089\n",
            "Epoch 192/200\n",
            "151/151 - 1s - loss: 0.2950 - accuracy: 0.9057\n",
            "Epoch 193/200\n",
            "151/151 - 1s - loss: 0.2966 - accuracy: 0.9070\n",
            "Epoch 194/200\n",
            "151/151 - 1s - loss: 0.2930 - accuracy: 0.9064\n",
            "Epoch 195/200\n",
            "151/151 - 1s - loss: 0.2912 - accuracy: 0.9062\n",
            "Epoch 196/200\n",
            "151/151 - 1s - loss: 0.2926 - accuracy: 0.9078\n",
            "Epoch 197/200\n",
            "151/151 - 1s - loss: 0.2899 - accuracy: 0.9078\n",
            "Epoch 198/200\n",
            "151/151 - 1s - loss: 0.2888 - accuracy: 0.9087\n",
            "Epoch 199/200\n",
            "151/151 - 1s - loss: 0.2880 - accuracy: 0.9060\n",
            "Epoch 200/200\n",
            "151/151 - 1s - loss: 0.2883 - accuracy: 0.9070\n"
          ],
          "name": "stdout"
        },
        {
          "output_type": "execute_result",
          "data": {
            "text/plain": [
              "<tensorflow.python.keras.callbacks.History at 0x7fa2e0029160>"
            ]
          },
          "metadata": {
            "tags": []
          },
          "execution_count": 27
        }
      ]
    },
    {
      "cell_type": "code",
      "metadata": {
        "id": "kvlofjoi387V"
      },
      "source": [
        "def sentence_generation(model, t, current_word, n): # 모델, 토크나이저, 현재 단어, 반복할 횟수\n",
        "    init_word = current_word # 처음 들어온 단어도 마지막에 같이 출력하기위해 저장\n",
        "    sentence = ''\n",
        "    for _ in range(n): # n번 반복\n",
        "        encoded = t.texts_to_sequences([current_word])[0] # 현재 단어에 대한 정수 인코딩\n",
        "        encoded = pad_sequences([encoded], maxlen=23, padding='pre') # 데이터에 대한 패딩\n",
        "        result = model.predict_classes(encoded, verbose=0)\n",
        "    # 입력한 X(현재 단어)에 대해서 y를 예측하고 y(예측한 단어)를 result에 저장.\n",
        "        for word, index in t.word_index.items(): \n",
        "            if index == result: # 만약 예측한 단어와 인덱스와 동일한 단어가 있다면\n",
        "                break # 해당 단어가 예측 단어이므로 break\n",
        "        current_word = current_word + ' '  + word # 현재 단어 + ' ' + 예측 단어를 현재 단어로 변경\n",
        "        sentence = sentence + ' ' + word # 예측 단어를 문장에 저장\n",
        "    # for문이므로 이 행동을 다시 반복\n",
        "    sentence = init_word + sentence\n",
        "    return sentence"
      ],
      "execution_count": null,
      "outputs": []
    },
    {
      "cell_type": "code",
      "metadata": {
        "id": "O1Rbqhen3-dr",
        "outputId": "9c14ef49-fbe6-4e92-dff5-a2a44195e2cb",
        "colab": {
          "base_uri": "https://localhost:8080/",
          "height": 36
        }
      },
      "source": [
        "print(sentence_generation(model, t, 'i', 10))\n",
        "# 임의의 단어 'i'에 대해서 10개의 단어를 추가 생성"
      ],
      "execution_count": null,
      "outputs": [
        {
          "output_type": "stream",
          "text": [
            "i survived a sarin gas attack to icky past walls you\n"
          ],
          "name": "stdout"
        }
      ]
    },
    {
      "cell_type": "code",
      "metadata": {
        "id": "2UZhKEkS4A-h",
        "outputId": "2597fd94-6610-42c1-974e-e37fe18b06c5",
        "colab": {
          "base_uri": "https://localhost:8080/",
          "height": 36
        }
      },
      "source": [
        "print(sentence_generation(model, t, 'how', 10))\n",
        "# 임의의 단어 'how'에 대해서 10개의 단어를 추가 생성"
      ],
      "execution_count": null,
      "outputs": [
        {
          "output_type": "stream",
          "text": [
            "how to be mindful while cleaning the bathroom two weeks of\n"
          ],
          "name": "stdout"
        }
      ]
    }
  ]
}